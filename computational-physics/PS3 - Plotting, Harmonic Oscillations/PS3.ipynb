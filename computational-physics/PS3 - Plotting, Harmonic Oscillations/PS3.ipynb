{
 "cells": [
  {
   "cell_type": "code",
   "execution_count": 2,
   "metadata": {},
   "outputs": [],
   "source": [
    "import numpy as np\n",
    "import matplotlib.pyplot as plt"
   ]
  },
  {
   "cell_type": "code",
   "execution_count": null,
   "metadata": {},
   "outputs": [],
   "source": [
    "file_path = '/Users/Austin/Desktop/PHY 40/Homework/PS3_4.txt'\n",
    "\n",
    "x, y = np.loadtxt(file_path, unpack = True) #Method to extract/import information from txt file      \n",
    "    \n",
    "        \n",
    "plt.plot(x,y)\n",
    "plt.xlabel('x position')\n",
    "plt.ylabel('y position')\n",
    "#plt.legend()\n",
    "ax=plt.gca() #Allows for axis limits\n",
    "ax.set(xlim=(-200000000000.0, 200000000000.0), ylim=(-200000000000.0, 200000000000.0))\n",
    "#ax.get_yaxis().get_major_formatter().set_scientific(False) #turning off scientif notation\n",
    "#ax.get_yaxis().get_major_formatter().set_scientific(False) #turning off scientific notation\n",
    "plt.grid()\n",
    "plt.show()"
   ]
  }
 ],
 "metadata": {
  "kernelspec": {
   "display_name": "Python 3",
   "language": "python",
   "name": "python3"
  },
  "language_info": {
   "codemirror_mode": {
    "name": "ipython",
    "version": 3
   },
   "file_extension": ".py",
   "mimetype": "text/x-python",
   "name": "python",
   "nbconvert_exporter": "python",
   "pygments_lexer": "ipython3",
   "version": "3.7.4"
  }
 },
 "nbformat": 4,
 "nbformat_minor": 2
}
